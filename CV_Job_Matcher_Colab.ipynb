{
 "cells": [
  {
   "cell_type": "code",
   "execution_count": null,
   "id": "ef983792",
   "metadata": {
    "vscode": {
     "languageId": "plaintext"
    }
   },
   "outputs": [],
   "source": [
    "!pip install gradio>=4.0.0 PyMuPDF>=1.23.0 requests>=2.31.0 duckduckgo-search>=3.9.0 -q\n",
    "%cd /content\n",
    "!git clone https://github.com/AmineBaraich/cv-job-matcher.git\n",
    "%cd cv-job-matcher\n",
    "!python app.py"
   ]
  }
 ],
 "metadata": {
  "language_info": {
   "name": "python"
  }
 },
 "nbformat": 4,
 "nbformat_minor": 5
}
